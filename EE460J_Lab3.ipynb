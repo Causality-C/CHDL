{
  "nbformat": 4,
  "nbformat_minor": 0,
  "metadata": {
    "colab": {
      "name": "EE460J_Lab3.ipynb",
      "provenance": [],
      "collapsed_sections": [],
      "authorship_tag": "ABX9TyMjUAUYSgGCVs8DL4J2219B",
      "include_colab_link": true
    },
    "kernelspec": {
      "display_name": "Python 3",
      "name": "python3"
    },
    "language_info": {
      "name": "python"
    }
  },
  "cells": [
    {
      "cell_type": "markdown",
      "metadata": {
        "id": "view-in-github",
        "colab_type": "text"
      },
      "source": [
        "<a href=\"https://colab.research.google.com/github/Causality-C/CHDL/blob/master/EE460J_Lab3.ipynb\" target=\"_parent\"><img src=\"https://colab.research.google.com/assets/colab-badge.svg\" alt=\"Open In Colab\"/></a>"
      ]
    },
    {
      "cell_type": "markdown",
      "metadata": {
        "id": "YNt36n6Aq4O-"
      },
      "source": [
        "# EE 460J Lab 3\n",
        "By:  Jeffrey Liu, Ryan Krogfoss, Johnathan Ghee,  \n",
        "\n",
        "Submission: Jeffrey Liu"
      ]
    },
    {
      "cell_type": "code",
      "metadata": {
        "id": "M3xNdci6cA1M",
        "colab": {
          "base_uri": "https://localhost:8080/"
        },
        "outputId": "bad831d1-02f3-4f8d-9a05-319b8f1ebe30"
      },
      "source": [
        "!pip install pdfminer"
      ],
      "execution_count": 33,
      "outputs": [
        {
          "output_type": "stream",
          "name": "stdout",
          "text": [
            "  Building wheel for pdfminer (setup.py) ... \u001b[?25l\u001b[?25hdone\n",
            "  Created wheel for pdfminer: filename=pdfminer-20191125-py3-none-any.whl size=6140100 sha256=a9810b6535b9cbfcbd9f3ec2258a6cbe69252e9377adbb4227e5ebf296a30d71\n",
            "  Stored in directory: /root/.cache/pip/wheels/e3/5e/f4/d210b46e9e4a28229ea070ed5b3efa92c3c29d1a7918dd4b97\n",
            "Successfully built pdfminer\n",
            "Installing collected packages: pycryptodome, pdfminer\n",
            "Successfully installed pdfminer-20191125 pycryptodome-3.10.4\n"
          ]
        }
      ]
    },
    {
      "cell_type": "code",
      "metadata": {
        "id": "NdF2qq5uWx7u"
      },
      "source": [
        "import numpy as np\n",
        "import pandas as pd\n",
        "import matplotlib.pyplot as plt\n",
        "import seaborn as sns\n",
        "import io\n",
        "from bs4 import BeautifulSoup\n",
        "import requests\n",
        "from pdfminer.converter import TextConverter\n",
        "from pdfminer.layout import LAParams\n",
        "from pdfminer.pdfdocument import PDFDocument\n",
        "from pdfminer.pdfinterp import PDFResourceManager, PDFPageInterpreter\n",
        "from pdfminer.pdfpage import PDFPage\n",
        "from pdfminer.pdfparser import PDFParser\n",
        "import re\n",
        "import os\n",
        "from urllib import request\n",
        "from google.colab import drive\n",
        "from math import log2, sqrt, ceil\n",
        "import random\n"
      ],
      "execution_count": 44,
      "outputs": []
    },
    {
      "cell_type": "markdown",
      "metadata": {
        "id": "gBq_WdFfrOxW"
      },
      "source": [
        "## Problem 1: A Bit of Informational Theory"
      ]
    },
    {
      "cell_type": "markdown",
      "metadata": {
        "id": "SXiB30zrrYbk"
      },
      "source": [
        "We can think about information as an average measure of entropy. Entropy can be mathematically defined as a weighted average of uncertainty conveyed by identifying the outcome of a random trial. More entropy corresponds to more information or randomness within a system. As with any measure of entropy, there is a relationship with probability. As a result, in systems that can be modeled as a random variable where the outcome is certain, there is no information because there is no randomness. Conversely, in systems where the outcome is perfectly random (when every outcome has an equal probability), there is a lot of uncertainty present. When dealing with conditional entropy, we can conclude that given random variables x and y, having more information about x can never increase the entropy of y (it’ll increase unless x and y are independent)\n",
        "\n",
        "Discrete source of information can be described mathematically by a stochastic process: a system which produces a sequence of symbols governed by a finite set of probabilities. There are many use cases for using discrete sources of information including understanding natural written language. By analyzing the frequency distribution of words (and their associated entropy), we can determine the average number of bits needed to encode a word. By empirical testing, i’ve found that the average bits needed for a word in the english language to be around 10.82 bits.\n"
      ]
    },
    {
      "cell_type": "markdown",
      "metadata": {
        "id": "W9Vk51atqrN8"
      },
      "source": [
        "## Problem 2: Scraping, Entropy, and ICML papers"
      ]
    },
    {
      "cell_type": "code",
      "metadata": {
        "id": "fLqiAUWUW2F0"
      },
      "source": [
        "# https://www.geeksforgeeks.org/how-to-scrape-all-pdf-files-in-a-website/\n",
        "url = 'http://proceedings.mlr.press/v70/'\n",
        "read = requests.get(url)\n",
        "content_html = read.content\n",
        "soup = BeautifulSoup(content_html, \"html.parser\")"
      ],
      "execution_count": null,
      "outputs": []
    },
    {
      "cell_type": "code",
      "metadata": {
        "id": "WnJzLJtKROuS"
      },
      "source": [
        "a_tags = [link.get(\"href\") for link in soup.find_all('a')]\n",
        "pdfs = list(filter(lambda tag: tag[-3:] == 'pdf', a_tags))"
      ],
      "execution_count": null,
      "outputs": []
    },
    {
      "cell_type": "code",
      "metadata": {
        "id": "W6z2UYb7Q0rE"
      },
      "source": [
        "# Downloads all PDFs\n",
        "for pdf in pdfs:\n",
        "  response = requests.get(pdf)\n",
        "  if response.status_code == 200:\n",
        "    file_end = pdf.split(\"/\")[-1]\n",
        "    with open('pdfs/{}'.format(file_end), 'wb') as f:\n",
        "        f.write(response.content)"
      ],
      "execution_count": null,
      "outputs": []
    },
    {
      "cell_type": "code",
      "metadata": {
        "id": "F1mWdvdHa99j"
      },
      "source": [
        "freq = {}\n",
        "i = 0\n",
        "for pdf in pdfs:\n",
        "  pdf = pdf.split(\"/\")[-1]\n",
        "  # https://pdfminersix.readthedocs.io/en/latest/tutorial/composable.html\n",
        "  output_string = io.StringIO()\n",
        "  try:\n",
        "    with open(\"pdfs/{}\".format(pdf), \"rb\") as f:\n",
        "      parser = PDFParser(f)\n",
        "      doc = PDFDocument(parser)\n",
        "      rsrcmgr = PDFResourceManager()\n",
        "      device = TextConverter(rsrcmgr, output_string, laparams=LAParams())\n",
        "      interpreter = PDFPageInterpreter(rsrcmgr, device)\n",
        "      for page in PDFPage.create_pages(doc):\n",
        "          interpreter.process_page(page)\n",
        "    file_str = output_string.getvalue()\n",
        "    r = file_str.replace(\"\\n\\n\",' ').replace('\\n',' ').replace(\"-\",'').replace(\",\",'').replace(\".\",'').replace('(','').replace(')','').lower().split(' ')\n",
        "    r = list(filter(lambda word: word.isalpha() and max([ord(word[i]) for i in range(len(word))]) < 123, r))\n",
        "    for word in r:\n",
        "      freq[word] = 1 if word not in freq else freq[word] + 1\n",
        "  except:\n",
        "    print(\"FIle Not Found\")\n",
        "  finally:\n",
        "    i += 1\n",
        "    print(i)"
      ],
      "execution_count": null,
      "outputs": []
    },
    {
      "cell_type": "code",
      "metadata": {
        "id": "YblShe2ffoiE"
      },
      "source": [
        "# Get Frequencies Sorted\n",
        "freqs = [tuple(reversed(item)) for item in freq.items()]\n",
        "freqs.sort()"
      ],
      "execution_count": null,
      "outputs": []
    },
    {
      "cell_type": "code",
      "metadata": {
        "id": "CRyJBxUlFTeH"
      },
      "source": [
        "# Save the frequencies\n",
        "textfile = open(\"word_file.txt\",'w')\n",
        "for element in freqs:\n",
        "  textfile.write(str(element[0]) + \",\" + element[1] + \"\\n\") \n",
        "textfile.close()"
      ],
      "execution_count": null,
      "outputs": []
    },
    {
      "cell_type": "code",
      "metadata": {
        "id": "dFhfq46pKBRa"
      },
      "source": [
        "# Calculate the Entropy of Words\n",
        "N = len(freqs)\n",
        "total = sum(freqs[i][0] for i in range(N))\n",
        "probs = [freqs[i][0]/total for i in range(N)]\n",
        "marginal_distr = [(probs[i],freqs[i][1]) for i in range(N)]\n",
        "entropy = -sum([ marginal_distr[i][0] * log2(marginal_distr[i][0]) for i in range(N)])\n",
        "marginal_distr\n"
      ],
      "execution_count": null,
      "outputs": []
    },
    {
      "cell_type": "code",
      "metadata": {
        "id": "Y_ds8F3Njgjx"
      },
      "source": [
        "# Random Variable for average and std of the number of words in an english sentence\n",
        "def give_sentence_stats():\n",
        "  o_string = io.StringIO()\n",
        "  \n",
        "  # Take one file to examine\n",
        "  with open(\"pdfs/alaa17a.pdf\".format(pdf), \"rb\") as f:\n",
        "    parser = PDFParser(f)\n",
        "    doc = PDFDocument(parser)\n",
        "    rsrcmgr = PDFResourceManager()\n",
        "    device = TextConverter(rsrcmgr, output_string, laparams=LAParams())\n",
        "    interpreter = PDFPageInterpreter(rsrcmgr, device)\n",
        "    for page in PDFPage.create_pages(doc):\n",
        "      interpreter.process_page(page)\n",
        "  file_str = output_string.getvalue()\n",
        "  # Format to sentences\n",
        "  r = file_str.replace(\"\\n\\n\",' ').replace('\\n',' ').replace(\"-\",'').replace(\",\",'').replace('(','').replace(')','').lower().split('.')\n",
        "  r = list(filter(lambda x: x != \" \", r))\n",
        "  r = [s.strip() for s in r]\n",
        "  # Remove sentences with num words less than 3 (this is usually)\n",
        "  op = list(filter(lambda x: len(x.split(\" \")) > 3, r))\n",
        "  len_list = [len(x.split(' ')) for x in op]\n",
        "  mu, sigma = np.mean(len_list), sqrt(np.var(len_list))\n",
        "  return mu, sigma"
      ],
      "execution_count": null,
      "outputs": []
    },
    {
      "cell_type": "code",
      "metadata": {
        "id": "rprauZDxnl3s"
      },
      "source": [
        "# Function to pseudo-randomly generate N words \n",
        "# https://stackoverflow.com/questions/66513348/how-to-generate-pseudo-random-string-based-on-percentage-probability\n",
        "def generate_random_sentence(words, word_freq,sentence_len):\n",
        "  sentence = []\n",
        "\n",
        "  for i in range(sentence_len):\n",
        "    result = np.random.choice(words, p=word_freq)\n",
        "    sentence.append(result)\n",
        "\n",
        "  sentence[0] = sentence[0].capitalize()\n",
        "  sentence[-1] = sentence[-1] + \".\"\n",
        "  return \" \".join(sentence)\n"
      ],
      "execution_count": null,
      "outputs": []
    },
    {
      "cell_type": "code",
      "metadata": {
        "colab": {
          "base_uri": "https://localhost:8080/"
        },
        "id": "sjZevoxyflgn",
        "outputId": "df545207-50a5-4ba7-da3c-38eb5ececc56"
      },
      "source": [
        "# Synthesize a random paragraph using the maginal distribution over words\n",
        "\n",
        "# Random Variable for Sentence Length\n",
        "mu, sigma = give_sentence_stats()\n",
        "\n",
        "# Lets say that there are 5 sentences in a paragraph\n",
        "num_sentences = 5\n",
        "words, word_freq = [tup[1] for tup in marginal_distr], [tup[0] for tup in marginal_distr]\n",
        "\n",
        "print(\"Generating Paragraph ... \\n\")\n",
        "for sentence in range(0,num_sentences):\n",
        "  sen_length = ceil(random.gauss(mu,sigma))\n",
        "  if sen_length >=3:\n",
        "    print(generate_random_sentence(words,word_freq,sen_length))"
      ],
      "execution_count": null,
      "outputs": [
        {
          "output_type": "stream",
          "name": "stdout",
          "text": [
            "Generating Paragraph ... \n",
            "\n",
            "Comparison part the of emmanuel three output al in least and and metropolis to al al stochastic markov last linear have second.\n",
            "As need with we can the in our the vaes we columns were and machines al admits s with matrices lower is.\n",
            "Linear and hu by dynamic to we of ex this sequential.\n",
            "Geometry where submodular per since games discrete et discuss hsieh xt.\n",
            "Allows jn of of which copyright mehdi linearly fast tion of et it one a density humans e copy and rt rankings but.\n"
          ]
        }
      ]
    },
    {
      "cell_type": "code",
      "metadata": {
        "id": "ELzikbe5qT8e"
      },
      "source": [
        "# Extra Credit: Using n-gram model of words"
      ],
      "execution_count": null,
      "outputs": []
    },
    {
      "cell_type": "code",
      "metadata": {
        "colab": {
          "base_uri": "https://localhost:8080/",
          "height": 285
        },
        "id": "qVMz4rftOS-i",
        "outputId": "7aca9c1d-32ca-4400-8170-3b18606a39e3"
      },
      "source": [
        "## Lets see the # of words that occur X times\n",
        "trimmed = list(filter(lambda word: word[0] > 1, freqs))\n",
        "\n",
        "total = sum(trimmed[i][0] for i in range(len(trimmed)))\n",
        "probs = [freqs[i][0]/total for i in range(len(freqs))]\n",
        "times = [0 for i in range(20)] \n",
        "times_freq = times.copy()\n",
        "for pair in freqs:\n",
        "  if pair[0] < 20:\n",
        "    times_freq[pair[0]] += 1 \n",
        "times_freq\n",
        "size, scale = 1000, 10\n",
        "commutes = pd.Series(np.random.gamma(scale, size=size) ** 1.5)\n",
        "t = pd.Series({i: times_freq[i] for i in range(len(times_freq))})\n",
        "t.plot.bar(grid=True)"
      ],
      "execution_count": null,
      "outputs": [
        {
          "output_type": "execute_result",
          "data": {
            "text/plain": [
              "<matplotlib.axes._subplots.AxesSubplot at 0x7f3dbea81fd0>"
            ]
          },
          "metadata": {},
          "execution_count": 89
        },
        {
          "output_type": "display_data",
          "data": {
            "image/png": "[encoded data removed]",
            "text/plain": [
              "<Figure size 432x288 with 1 Axes>"
            ]
          },
          "metadata": {
            "needs_background": "light"
          }
        }
      ]
    },
    {
      "cell_type": "markdown",
      "metadata": {
        "id": "DsTf15evqvyy"
      },
      "source": [
        "## Problem 3: More on Kaggle Advanced Regression"
      ]
    },
    {
      "cell_type": "markdown",
      "metadata": {
        "id": "2moneYO41KKw"
      },
      "source": [
        "1. https://www.kaggle.com/niteshx2/top-50-beginners-stacking-lgb-xgb is the best link I've found on the website. I've learned the importance of cleaning data and removing outliers as they will skew your model in an unfavorable direction. Additionally, the article touches upon feature engineering where one manually removes features that are intuitively not important and add improvements to the feature set (ie. Summing the squarefootage of all floors instead of having a separate squarefootage for each floor -> some houses do not have a 2nd floor). Finally, the article stresses the importance of stacking and ensambling different models to reduce overfitting. \n",
        "2. The best public leader board score I can achieve is 0.12156. I followed the code from the question 1 and implemented the changes to improve my rank to top 10% of submissions"
      ]
    },
    {
      "cell_type": "code",
      "metadata": {
        "id": "gCaYW3RGJlMo"
      },
      "source": [
        "import pandas as pd\n",
        "import numpy as np\n",
        "import seaborn as sns\n",
        "import matplotlib\n",
        "\n",
        "import matplotlib.pyplot as plt\n",
        "from scipy.stats import skew\n",
        "from scipy.stats.stats import pearsonr\n",
        "\n",
        "from sklearn.linear_model import Ridge, RidgeCV, ElasticNet, LassoCV, LassoLarsCV, ElasticNetCV\n",
        "from sklearn.model_selection import cross_val_score, KFold\n",
        "from sklearn.ensemble import StackingRegressor, GradientBoostingRegressor\n",
        "from xgboost import XGBRegressor\n",
        "from scipy import stats\n",
        "from scipy.special import boxcox1p\n",
        "from sklearn.pipeline import make_pipeline\n",
        "from sklearn.preprocessing import RobustScaler\n",
        "from sklearn.svm import SVR\n",
        "from lightgbm import LGBMClassifier, LGBMRegressor\n",
        "from mlxtend.regressor import StackingCVRegressor\n",
        "from sklearn.metrics import mean_squared_error"
      ],
      "execution_count": 149,
      "outputs": []
    },
    {
      "cell_type": "code",
      "metadata": {
        "id": "xtMHY6faMGig"
      },
      "source": [
        "# RMSE Function\n",
        "kfolds = KFold(n_splits=10, shuffle=True, random_state=42)\n",
        "\n",
        "def rmsle(y, y_pred):\n",
        "    return np.sqrt(mean_squared_error(y, y_pred))\n",
        "\n",
        "def cv_rmse(model, X=X):\n",
        "    rmse = np.sqrt(-cross_val_score(model, X, y, scoring=\"neg_mean_squared_error\", cv=kfolds))\n",
        "    return (rmse)"
      ],
      "execution_count": 113,
      "outputs": []
    },
    {
      "cell_type": "code",
      "metadata": {
        "id": "XFMeDGiugV6G"
      },
      "source": [
        "def blend_models_predict(X):\n",
        "    return ((0.1 * elastic_model_full_data.predict(X)) + \\\n",
        "            (0.05 * lasso_model_full_data.predict(X)) + \\\n",
        "            (0.1 * ridge_model_full_data.predict(X)) + \\\n",
        "            (0.1 * svr_model_full_data.predict(X)) + \\\n",
        "            (0.1 * gbr_model_full_data.predict(X)) + \\\n",
        "            (0.15 * xgb_model_full_data.predict(X)) + \\\n",
        "            (0.1 * lgb_model_full_data.predict(X)) + \\\n",
        "            (0.3 * stack_gen_model.predict(np.array(X))))"
      ],
      "execution_count": 146,
      "outputs": []
    },
    {
      "cell_type": "code",
      "metadata": {
        "id": "ttxF_YkeMH-f"
      },
      "source": [
        "# Export Results of Y_Predict to CSV File\n",
        "def export_to_csv(y_pred):\n",
        "  df = pd.DataFrame({'Id' : [i + 1461 for i in range(X_sub.shape[0])], 'SalePrice': np.expm1(y_pred)})\n",
        "  df.to_csv('sample_submission.csv',index=False)"
      ],
      "execution_count": 153,
      "outputs": []
    },
    {
      "cell_type": "code",
      "metadata": {
        "colab": {
          "base_uri": "https://localhost:8080/"
        },
        "id": "U8GC-nAtMJPG",
        "outputId": "2c54bb15-57ea-4a47-e10f-6e1adae820ac"
      },
      "source": [
        "# Read Data and Preprocess\n",
        "train = pd.read_csv(\"./input/train.csv\")\n",
        "test = pd.read_csv(\"./input/test.csv\")\n",
        "\n",
        "# Remove ID\n",
        "train.drop(['Id'], axis=1, inplace=True)\n",
        "test.drop(['Id'], axis=1, inplace=True)\n",
        "\n",
        "# Remove Outliers\n",
        "train = train[train.GrLivArea < 4500] # Outliers\n",
        "train.reset_index(drop=True, inplace=True)\n",
        "train['SalePrice'] = np.log1p(train['SalePrice'])\n",
        "y = train['SalePrice']\n",
        "\n",
        "train_features = train.drop(['SalePrice'], axis=1)\n",
        "test_features = test\n",
        "\n",
        "# We can use the drop parameter to avoid the old index being added as a column\n",
        "all_features = pd.concat([train_features,test_features]).reset_index(drop=True)\n",
        "\n",
        "# Features must have \n",
        "all_features['MSSubClass'] = all_features['MSSubClass'].apply(str)\n",
        "all_features['YrSold'] = all_features['YrSold'].astype(str)\n",
        "all_features['YrSold'] = all_features['YrSold'].astype(str)\n",
        "\n",
        "# Fill NA Columns with useful values\n",
        "all_features['Functional'] = all_features['Functional'].fillna('Typ') \n",
        "all_features['Electrical'] = all_features['Electrical'].fillna('SBrkr')\n",
        "all_features['KitchenQual'] = all_features['KitchenQual'].fillna(\"TA\") \n",
        "all_features[\"PoolQC\"] = all_features[\"PoolQC\"].fillna(\"None\")\n",
        "\n",
        "# Fill These columns with the most frequent value in the respective columns\n",
        "all_features['Exterior1st'] = all_features['Exterior1st'].fillna(all_features['Exterior1st'].mode()[0])\n",
        "all_features['Exterior2nd'] = all_features['Exterior2nd'].fillna(all_features['Exterior2nd'].mode()[0])\n",
        "all_features['SaleType'] = all_features['SaleType'].fillna(all_features['SaleType'].mode()[0])\n",
        "\n",
        "\n",
        "for col in ['GarageYrBlt', 'GarageArea', 'GarageCars']:\n",
        "  all_features[col] = all_features[col].fillna(0)\n",
        "\n",
        "for col in ['GarageType', 'GarageFinish', 'GarageQual', 'GarageCond']:\n",
        "  all_features[col] = all_features[col].fillna('None')\n",
        "\n",
        "for col in ['BsmtQual', 'BsmtCond', 'BsmtExposure', 'BsmtFinType1', 'BsmtFinType2']:\n",
        "    all_features[col] = all_features[col].fillna('None')\n",
        "\n",
        "# Fill missing values with the mode by each MSsubclass\n",
        "all_features['MSZoning'] = all_features.groupby('MSSubClass')['MSZoning'].transform(lambda x: x.fillna(x.mode()[0]))\n",
        "\n",
        "# Update NaN object values with None\n",
        "objects = []\n",
        "for i in all_features.columns:\n",
        "    if all_features[i].dtype == object:\n",
        "        objects.append(i)\n",
        "all_features.update(all_features[objects].fillna('None'))\n",
        "\n",
        "# Update Numerical Cols NAN values with 0\n",
        "all_features['LotFrontage'] = all_features.groupby('Neighborhood')['LotFrontage'].transform(lambda x: x.fillna(x.median()))\n",
        "numeric_dtypes = ['int16', 'int32', 'int64', 'float16', 'float32', 'float64']\n",
        "numerics = []\n",
        "for i in all_features.columns:\n",
        "    if all_features[i].dtype in numeric_dtypes:\n",
        "        numerics.append(i)\n",
        "all_features.update(all_features[numerics].fillna(0))\n",
        "\n",
        "numerics2 = []\n",
        "for i in all_features.columns:\n",
        "    if all_features[i].dtype in numeric_dtypes:\n",
        "        numerics2.append(i)\n",
        "skew_features = all_features[numerics2].apply(lambda x: skew(x)).sort_values(ascending=False)\n",
        "high_skew = skew_features[skew_features > 0.5]\n",
        "skew_index = high_skew.index\n",
        "\n",
        "\n",
        "for i in skew_index:\n",
        "    all_features[i] = boxcox1p(all_features[i], stats.boxcox_normmax(all_features[i] + 1))\n",
        "\n",
        "len(train)\n"
      ],
      "execution_count": 106,
      "outputs": [
        {
          "output_type": "stream",
          "name": "stderr",
          "text": [
            "/usr/local/lib/python3.7/dist-packages/scipy/stats/stats.py:3508: PearsonRConstantInputWarning: An input array is constant; the correlation coefficent is not defined.\n",
            "  warnings.warn(PearsonRConstantInputWarning())\n",
            "/usr/local/lib/python3.7/dist-packages/scipy/stats/stats.py:3538: PearsonRNearConstantInputWarning: An input array is nearly constant; the computed correlation coefficent may be inaccurate.\n",
            "  warnings.warn(PearsonRNearConstantInputWarning())\n"
          ]
        },
        {
          "output_type": "execute_result",
          "data": {
            "text/plain": [
              "1458"
            ]
          },
          "metadata": {},
          "execution_count": 106
        }
      ]
    },
    {
      "cell_type": "code",
      "metadata": {
        "colab": {
          "base_uri": "https://localhost:8080/"
        },
        "id": "6Vz1NhnWZUvJ",
        "outputId": "5666a46d-3cfb-49d4-f67c-85ae4ef12022"
      },
      "source": [
        "# Feature Engineering\n",
        "\n",
        "# Drop Useless Features\n",
        "all_features = all_features.drop(['Utilities','Street','PoolQC'], axis=1)\n",
        "\n",
        "# Adding new features \n",
        "all_features['YrBltAndRemod']=all_features['YearBuilt']+all_features['YearRemodAdd']\n",
        "all_features['TotalSF']=all_features['TotalBsmtSF'] + all_features['1stFlrSF'] + all_features['2ndFlrSF']\n",
        "\n",
        "all_features['Total_sqr_footage'] = (all_features['BsmtFinSF1'] + all_features['BsmtFinSF2'] +\n",
        "                                 all_features['1stFlrSF'] + all_features['2ndFlrSF'])\n",
        "\n",
        "all_features['Total_Bathrooms'] = (all_features['FullBath'] + (0.5 * all_features['HalfBath']) +\n",
        "                               all_features['BsmtFullBath'] + (0.5 * all_features['BsmtHalfBath']))\n",
        "\n",
        "all_features['Total_porch_sf'] = (all_features['OpenPorchSF'] + all_features['3SsnPorch'] +\n",
        "                              all_features['EnclosedPorch'] + all_features['ScreenPorch'] +\n",
        "                              all_features['WoodDeckSF'])\n",
        "\n",
        "## For ex, if PoolArea = 0 , Then HasPool = 0 too\n",
        "\n",
        "all_features['haspool'] = all_features['PoolArea'].apply(lambda x: 1 if x > 0 else 0)\n",
        "all_features['has2ndfloor'] = all_features['2ndFlrSF'].apply(lambda x: 1 if x > 0 else 0)\n",
        "all_features['hasgarage'] = all_features['GarageArea'].apply(lambda x: 1 if x > 0 else 0)\n",
        "all_features['hasbsmt'] = all_features['TotalBsmtSF'].apply(lambda x: 1 if x > 0 else 0)\n",
        "all_features['hasfireplace'] = all_features['Fireplaces'].apply(lambda x: 1 if x > 0 else 0)\n",
        "\n",
        "final_features = pd.get_dummies(all_features).reset_index(drop=True)\n",
        "\n",
        "X = final_features.iloc[:len(y), :]\n",
        "X_sub = final_features.iloc[len(y):, :]\n",
        "X.shape, y.shape, X_sub.shape\n"
      ],
      "execution_count": 107,
      "outputs": [
        {
          "output_type": "execute_result",
          "data": {
            "text/plain": [
              "((1458, 322), (1458,), (1459, 322))"
            ]
          },
          "metadata": {},
          "execution_count": 107
        }
      ]
    },
    {
      "cell_type": "code",
      "metadata": {
        "colab": {
          "base_uri": "https://localhost:8080/"
        },
        "id": "MG_amhSpcHzI",
        "outputId": "88154139-acf7-48e9-aff4-21c1cb946b9a"
      },
      "source": [
        "outliers = [30,88,462,631,1322]\n",
        "X = X.drop(X.index[outliers])\n",
        "y = y.drop(y.index[outliers])\n",
        "\n",
        "\n",
        "# Determine Overfit by \n",
        "overfit = []\n",
        "for i in X.columns:\n",
        "    counts = X[i].value_counts()\n",
        "    zeros = counts.iloc[0]\n",
        "    if zeros / len(X) * 100 > 99.94:\n",
        "        overfit.append(i)\n",
        "\n",
        "overfit = list(overfit)\n",
        "X = X.drop(overfit, axis=1)\n",
        "X_sub = X_sub.drop(overfit, axis=1)\n",
        "X.shape, y.shape, X_sub.shape"
      ],
      "execution_count": 108,
      "outputs": [
        {
          "output_type": "execute_result",
          "data": {
            "text/plain": [
              "((1453, 321), (1453,), (1459, 321))"
            ]
          },
          "metadata": {},
          "execution_count": 108
        }
      ]
    },
    {
      "cell_type": "code",
      "metadata": {
        "id": "33-j_Wbkc2j9"
      },
      "source": [
        "alphas_alt = [14.5, 14.6, 14.7, 14.8, 14.9, 15, 15.1, 15.2, 15.3, 15.4, 15.5]\n",
        "alphas2 = [5e-05, 0.0001, 0.0002, 0.0003, 0.0004, 0.0005, 0.0006, 0.0007, 0.0008]\n",
        "e_alphas = [0.0001, 0.0002, 0.0003, 0.0004, 0.0005, 0.0006, 0.0007]\n",
        "e_l1ratio = [0.8, 0.85, 0.9, 0.95, 0.99, 1]"
      ],
      "execution_count": 114,
      "outputs": []
    },
    {
      "cell_type": "code",
      "metadata": {
        "id": "IO23ocRPdfZv"
      },
      "source": [
        "ridge = make_pipeline(RobustScaler(), RidgeCV(alphas=alphas_alt, cv=kfolds))\n",
        "lasso = make_pipeline(RobustScaler(), LassoCV(max_iter=1e7, alphas=alphas2, random_state=42, cv=kfolds))\n",
        "elasticnet = make_pipeline(RobustScaler(), ElasticNetCV(max_iter=1e7, alphas=e_alphas, cv=kfolds, l1_ratio=e_l1ratio))                                \n",
        "svr = make_pipeline(RobustScaler(), SVR(C= 20, epsilon= 0.008, gamma=0.0003,))"
      ],
      "execution_count": 126,
      "outputs": []
    },
    {
      "cell_type": "code",
      "metadata": {
        "id": "NjxySsjseNqX"
      },
      "source": [
        "gbr = GradientBoostingRegressor(n_estimators=3000, learning_rate=0.05, max_depth=4, max_features='sqrt', min_samples_leaf=15, min_samples_split=10, loss='huber', random_state =42)   "
      ],
      "execution_count": 131,
      "outputs": []
    },
    {
      "cell_type": "code",
      "metadata": {
        "id": "kISHgvDjef0J"
      },
      "source": [
        "lightgbm = LGBMRegressor(objective='regression', \n",
        "                                       num_leaves=4,\n",
        "                                       learning_rate=0.01, \n",
        "                                       n_estimators=5000,\n",
        "                                       max_bin=200, \n",
        "                                       bagging_fraction=0.75,\n",
        "                                       bagging_freq=5, \n",
        "                                       bagging_seed=7,\n",
        "                                       feature_fraction=0.2,\n",
        "                                       feature_fraction_seed=7,\n",
        "                                       verbose=-1,\n",
        "                                       )\n",
        "xgboost = XGBRegressor(learning_rate=0.01,n_estimators=3460,\n",
        "                                     max_depth=3, min_child_weight=0,\n",
        "                                     gamma=0, subsample=0.7,\n",
        "                                     colsample_bytree=0.7,\n",
        "                                     objective='reg:linear', nthread=-1,\n",
        "                                     scale_pos_weight=1, seed=27,\n",
        "                                     reg_alpha=0.00006)"
      ],
      "execution_count": 139,
      "outputs": []
    },
    {
      "cell_type": "code",
      "metadata": {
        "id": "elrC_NxqflPM"
      },
      "source": [
        "stack_gen = StackingCVRegressor(regressors=(ridge, lasso, elasticnet, gbr, xgboost, lightgbm),\n",
        "                                meta_regressor=xgboost,\n",
        "                                use_features_in_secondary=True)"
      ],
      "execution_count": 143,
      "outputs": []
    },
    {
      "cell_type": "code",
      "metadata": {
        "colab": {
          "base_uri": "https://localhost:8080/"
        },
        "id": "ZALIUqdPgxsK",
        "outputId": "93feb66e-7fc5-48da-de4a-eff373ce500a"
      },
      "source": [
        "print('START Fit')\n",
        "\n",
        "print('stack_gen')\n",
        "stack_gen_model = stack_gen.fit(np.array(X), np.array(y))\n",
        "\n",
        "print('elasticnet')\n",
        "elastic_model_full_data = elasticnet.fit(X, y)\n",
        "\n",
        "print('Lasso')\n",
        "lasso_model_full_data = lasso.fit(X, y)\n",
        "\n",
        "print('Ridge')\n",
        "ridge_model_full_data = ridge.fit(X, y)\n",
        "\n",
        "print('Svr')\n",
        "svr_model_full_data = svr.fit(X, y)\n",
        "\n",
        "print('GradientBoosting')\n",
        "gbr_model_full_data = gbr.fit(X, y)\n",
        "\n",
        "print('xgboost')\n",
        "xgb_model_full_data = xgboost.fit(X, y)\n",
        "\n",
        "print('lightgbm')\n",
        "lgb_model_full_data = lightgbm.fit(X, y)"
      ],
      "execution_count": 147,
      "outputs": [
        {
          "output_type": "stream",
          "name": "stdout",
          "text": [
            "START Fit\n",
            "stack_gen\n",
            "[01:18:02] WARNING: /workspace/src/objective/regression_obj.cu:152: reg:linear is now deprecated in favor of reg:squarederror.\n",
            "[01:18:23] WARNING: /workspace/src/objective/regression_obj.cu:152: reg:linear is now deprecated in favor of reg:squarederror.\n",
            "[01:18:43] WARNING: /workspace/src/objective/regression_obj.cu:152: reg:linear is now deprecated in favor of reg:squarederror.\n",
            "[01:19:04] WARNING: /workspace/src/objective/regression_obj.cu:152: reg:linear is now deprecated in favor of reg:squarederror.\n",
            "[01:19:25] WARNING: /workspace/src/objective/regression_obj.cu:152: reg:linear is now deprecated in favor of reg:squarederror.\n",
            "[01:19:53] WARNING: /workspace/src/objective/regression_obj.cu:152: reg:linear is now deprecated in favor of reg:squarederror.\n",
            "[01:20:39] WARNING: /workspace/src/objective/regression_obj.cu:152: reg:linear is now deprecated in favor of reg:squarederror.\n",
            "elasticnet\n",
            "Lasso\n",
            "Ridge\n",
            "Svr\n",
            "GradientBoosting\n",
            "xgboost\n",
            "[01:21:27] WARNING: /workspace/src/objective/regression_obj.cu:152: reg:linear is now deprecated in favor of reg:squarederror.\n",
            "lightgbm\n"
          ]
        }
      ]
    },
    {
      "cell_type": "code",
      "metadata": {
        "colab": {
          "base_uri": "https://localhost:8080/"
        },
        "id": "j48t6C5EhFH_",
        "outputId": "3e2c4df4-b75f-4bc7-9e42-b2df6dd509b5"
      },
      "source": [
        "print('RMSLE score on train data:')\n",
        "print(rmsle(y, blend_models_predict(X)))\n",
        "y_pred = blend_models_predict(X_sub)\n",
        "export_to_csv(y_pred)"
      ],
      "execution_count": 154,
      "outputs": [
        {
          "output_type": "stream",
          "name": "stdout",
          "text": [
            "RMSLE score on train data:\n",
            "0.05581630574988134\n"
          ]
        }
      ]
    },
    {
      "cell_type": "markdown",
      "metadata": {
        "id": "_Ib_K1vioXHf"
      },
      "source": [
        "The RMSLE score on the train data is 0.055 but the actual submission score is 0.12156. Therefore, this model is an example of slight overfitting"
      ]
    },
    {
      "cell_type": "code",
      "metadata": {
        "colab": {
          "base_uri": "https://localhost:8080/"
        },
        "id": "ckUF479jpwLi",
        "outputId": "21c77d4a-3171-4176-99c0-a52d485e7dc7"
      },
      "source": [
        "model_lasso = LassoCV(alphas = [20,30,40]).fit(X, y)\n",
        "print(\"Underfit Model: {}\".format(rmsle(y, model_lasso.predict(X))))"
      ],
      "execution_count": 170,
      "outputs": [
        {
          "output_type": "stream",
          "name": "stdout",
          "text": [
            "Underfit Model: 0.24420996740421833\n"
          ]
        }
      ]
    },
    {
      "cell_type": "code",
      "metadata": {
        "id": "gdORO-a7qKy-"
      },
      "source": [
        "# Score: 0.27546\n",
        "y_pred = model_lasso.predict(X_sub)\n",
        "np.expm1(y_pred)\n",
        "export_to_csv(y_pred)"
      ],
      "execution_count": 168,
      "outputs": []
    },
    {
      "cell_type": "markdown",
      "metadata": {
        "id": "6Vlrlfp0rD3C"
      },
      "source": [
        "The RMSLE score on the train data is 0.24420996740421833 and the actual score is 0.27546. Both scores are very poor because of a high error rate and thus the model is underfitted."
      ]
    }
  ]
}